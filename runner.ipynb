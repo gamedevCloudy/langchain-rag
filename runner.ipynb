{
 "cells": [
  {
   "cell_type": "code",
   "execution_count": 11,
   "metadata": {},
   "outputs": [],
   "source": [
    "from data import ChainSetup"
   ]
  },
  {
   "cell_type": "code",
   "execution_count": 12,
   "metadata": {},
   "outputs": [
    {
     "name": "stderr",
     "output_type": "stream",
     "text": [
      "I0000 00:00:1720854341.482617  170837 check_gcp_environment_no_op.cc:29] ALTS: Platforms other than Linux and Windows are not supported\n"
     ]
    },
    {
     "name": "stdout",
     "output_type": "stream",
     "text": [
      "RAG is Ready\n"
     ]
    },
    {
     "name": "stderr",
     "output_type": "stream",
     "text": [
      "I0000 00:00:1720854342.639433  170837 check_gcp_environment_no_op.cc:29] ALTS: Platforms other than Linux and Windows are not supported\n",
      "I0000 00:00:1720854342.641237  170837 check_gcp_environment_no_op.cc:29] ALTS: Platforms other than Linux and Windows are not supported\n"
     ]
    }
   ],
   "source": [
    "chain = ChainSetup()"
   ]
  },
  {
   "cell_type": "code",
   "execution_count": 13,
   "metadata": {},
   "outputs": [
    {
     "name": "stderr",
     "output_type": "stream",
     "text": [
      "Number of requested results 5 is greater than number of elements in index 2, updating n_results = 2\n"
     ]
    }
   ],
   "source": [
    "output = chain.get_rag_output(\"\"\"I make 30000 rs per month, how can I invest with 30% being my expenses\"\"\")"
   ]
  },
  {
   "cell_type": "code",
   "execution_count": 14,
   "metadata": {},
   "outputs": [
    {
     "data": {
      "text/plain": [
       "\"Okay, so you're making ₹30,000 per month and your expenses are 30%, which is ₹9,000. That leaves you with ₹21,000 for investing.\\n\\nHere's a basic strategy:\\n\\n1. **Emergency Fund:**  Keep ₹3-6 months of expenses (₹27,000 - ₹54,000) in a liquid savings account.\\n2. **SIPs:** Start with ₹5,000 in mutual funds through SIPs (Systematic Investment Plans) in equity funds for long-term growth.\\n3. **PPF:** Consider investing ₹1,500 in a Public Provident Fund (PPF) for tax-free returns.\\n4. **FDs:**  Invest ₹5,000 in Fixed Deposits (FDs) for a stable return.\\n5. **Invest the rest:**  Use the remaining ₹9,500 for other investments like stocks or real estate, but only after researching and understanding the risks.\\n\\nRemember, this is just a starting point. It's important to consult a financial advisor for personalized advice. \\n\""
      ]
     },
     "execution_count": 14,
     "metadata": {},
     "output_type": "execute_result"
    }
   ],
   "source": [
    "output"
   ]
  },
  {
   "cell_type": "code",
   "execution_count": 15,
   "metadata": {},
   "outputs": [],
   "source": [
    "from IPython.display import display\n",
    "from IPython.display import Markdown\n",
    "import textwrap\n",
    "\n",
    "def to_markdown(text):\n",
    "  text = text.replace('•', '  *')\n",
    "  return Markdown(textwrap.indent(text, '> ', predicate=lambda _: True))"
   ]
  },
  {
   "cell_type": "code",
   "execution_count": 16,
   "metadata": {},
   "outputs": [
    {
     "data": {
      "text/markdown": [
       "> Okay, so you're making ₹30,000 per month and your expenses are 30%, which is ₹9,000. That leaves you with ₹21,000 for investing.\n",
       "> \n",
       "> Here's a basic strategy:\n",
       "> \n",
       "> 1. **Emergency Fund:**  Keep ₹3-6 months of expenses (₹27,000 - ₹54,000) in a liquid savings account.\n",
       "> 2. **SIPs:** Start with ₹5,000 in mutual funds through SIPs (Systematic Investment Plans) in equity funds for long-term growth.\n",
       "> 3. **PPF:** Consider investing ₹1,500 in a Public Provident Fund (PPF) for tax-free returns.\n",
       "> 4. **FDs:**  Invest ₹5,000 in Fixed Deposits (FDs) for a stable return.\n",
       "> 5. **Invest the rest:**  Use the remaining ₹9,500 for other investments like stocks or real estate, but only after researching and understanding the risks.\n",
       "> \n",
       "> Remember, this is just a starting point. It's important to consult a financial advisor for personalized advice. \n"
      ],
      "text/plain": [
       "<IPython.core.display.Markdown object>"
      ]
     },
     "execution_count": 16,
     "metadata": {},
     "output_type": "execute_result"
    }
   ],
   "source": [
    "to_markdown(output)"
   ]
  },
  {
   "cell_type": "code",
   "execution_count": 17,
   "metadata": {},
   "outputs": [
    {
     "name": "stderr",
     "output_type": "stream",
     "text": [
      "I0000 00:00:1720854398.510376  170837 work_stealing_thread_pool.cc:321] WorkStealingThreadPoolImpl::PrepareFork\n",
      "I0000 00:00:1720854398.510653  170837 fork_posix.cc:77] Other threads are currently calling into gRPC, skipping fork() handlers\n"
     ]
    },
    {
     "name": "stdout",
     "output_type": "stream",
     "text": [
      "Collecting mistletoe\n",
      "  Downloading mistletoe-1.3.0-py3-none-any.whl (51 kB)\n",
      "\u001b[2K     \u001b[38;2;114;156;31m━━━━━━━━━━━━━━━━━━━━━━━━━━━━━━━━━━━━━━━\u001b[0m \u001b[32m51.0/51.0 kB\u001b[0m \u001b[31m208.4 kB/s\u001b[0m eta \u001b[36m0:00:00\u001b[0m kB/s\u001b[0m eta \u001b[36m0:00:01\u001b[0m:01\u001b[0m\n",
      "\u001b[?25hInstalling collected packages: mistletoe\n",
      "Successfully installed mistletoe-1.3.0\n",
      "\n",
      "\u001b[1m[\u001b[0m\u001b[34;49mnotice\u001b[0m\u001b[1;39;49m]\u001b[0m\u001b[39;49m A new release of pip is available: \u001b[0m\u001b[31;49m23.0.1\u001b[0m\u001b[39;49m -> \u001b[0m\u001b[32;49m24.1.2\u001b[0m\n",
      "\u001b[1m[\u001b[0m\u001b[34;49mnotice\u001b[0m\u001b[1;39;49m]\u001b[0m\u001b[39;49m To update, run: \u001b[0m\u001b[32;49mpip install --upgrade pip\u001b[0m\n"
     ]
    }
   ],
   "source": [
    "!pip install mistletoe"
   ]
  },
  {
   "cell_type": "code",
   "execution_count": 18,
   "metadata": {},
   "outputs": [
    {
     "name": "stdout",
     "output_type": "stream",
     "text": [
      "<h1>This is a heading</h1>\n",
      "<ul>\n",
      "<li>This is an item in a list\n",
      "<strong>This is bold text</strong></li>\n",
      "</ul>\n",
      "\n"
     ]
    }
   ],
   "source": [
    "from mistletoe import markdown\n",
    "\n",
    "def markdown_to_html(markdown_text):\n",
    "  \"\"\"\n",
    "  Converts markdown text to HTML using the mistletoe library.\n",
    "\n",
    "  Args:\n",
    "      markdown_text (str): The markdown text to be converted.\n",
    "\n",
    "  Returns:\n",
    "      str: The HTML representation of the markdown text.\n",
    "  \"\"\"\n",
    "  # Install mistletoe using pip: pip install mistletoe\n",
    "  html = markdown(markdown_text)\n",
    "  return html\n",
    "\n",
    "# Example usage\n",
    "markdown_text = \"# This is a heading\\n* This is an item in a list\\n**This is bold text**\"\n",
    "html = markdown_to_html(markdown_text)\n",
    "print(html)\n"
   ]
  },
  {
   "cell_type": "code",
   "execution_count": 19,
   "metadata": {},
   "outputs": [
    {
     "data": {
      "text/plain": [
       "\"<p>Okay, so you're making ₹30,000 per month and your expenses are 30%, which is ₹9,000. That leaves you with ₹21,000 for investing.</p>\\n<p>Here's a basic strategy:</p>\\n<ol>\\n<li><strong>Emergency Fund:</strong>  Keep ₹3-6 months of expenses (₹27,000 - ₹54,000) in a liquid savings account.</li>\\n<li><strong>SIPs:</strong> Start with ₹5,000 in mutual funds through SIPs (Systematic Investment Plans) in equity funds for long-term growth.</li>\\n<li><strong>PPF:</strong> Consider investing ₹1,500 in a Public Provident Fund (PPF) for tax-free returns.</li>\\n<li><strong>FDs:</strong>  Invest ₹5,000 in Fixed Deposits (FDs) for a stable return.</li>\\n<li><strong>Invest the rest:</strong>  Use the remaining ₹9,500 for other investments like stocks or real estate, but only after researching and understanding the risks.</li>\\n</ol>\\n<p>Remember, this is just a starting point. It's important to consult a financial advisor for personalized advice.</p>\\n\""
      ]
     },
     "execution_count": 19,
     "metadata": {},
     "output_type": "execute_result"
    }
   ],
   "source": [
    "markdown_to_html(output)"
   ]
  },
  {
   "cell_type": "code",
   "execution_count": null,
   "metadata": {},
   "outputs": [],
   "source": []
  }
 ],
 "metadata": {
  "kernelspec": {
   "display_name": ".venv",
   "language": "python",
   "name": "python3"
  },
  "language_info": {
   "codemirror_mode": {
    "name": "ipython",
    "version": 3
   },
   "file_extension": ".py",
   "mimetype": "text/x-python",
   "name": "python",
   "nbconvert_exporter": "python",
   "pygments_lexer": "ipython3",
   "version": "3.10.14"
  }
 },
 "nbformat": 4,
 "nbformat_minor": 2
}
